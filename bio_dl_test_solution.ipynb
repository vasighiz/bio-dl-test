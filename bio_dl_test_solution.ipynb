{
  "cells": [
    {
      "cell_type": "markdown",
      "id": "03a250f3",
      "metadata": {
        "id": "03a250f3"
      },
      "source": [
        "#  Part 1: Scanpy-based scRNA-seq Analysis"
      ]
    },
    {
      "cell_type": "code",
      "source": [
        "pip install scanpy --quiet"
      ],
      "metadata": {
        "id": "YJLVx01QSp5E"
      },
      "id": "YJLVx01QSp5E",
      "execution_count": 3,
      "outputs": []
    },
    {
      "cell_type": "code",
      "source": [
        "pip install igraph --quiet"
      ],
      "metadata": {
        "id": "FOg-X57XTKc1"
      },
      "id": "FOg-X57XTKc1",
      "execution_count": 7,
      "outputs": []
    },
    {
      "cell_type": "code",
      "source": [
        "import scanpy as sc\n",
        "import matplotlib.pyplot as plt"
      ],
      "metadata": {
        "id": "2Y0xv_DWTRa_"
      },
      "id": "2Y0xv_DWTRa_",
      "execution_count": null,
      "outputs": []
    },
    {
      "cell_type": "code",
      "source": [
        "# Load dataset\n",
        "adata = sc.datasets.pbmc3k()\n",
        "adata = adata[:300]  # Subsample for speed"
      ],
      "metadata": {
        "id": "d-FZE-MmTYpi"
      },
      "id": "d-FZE-MmTYpi",
      "execution_count": null,
      "outputs": []
    },
    {
      "cell_type": "code",
      "source": [
        "# Preprocessing\n",
        "sc.pp.filter_cells(adata, min_genes=200)\n",
        "sc.pp.filter_genes(adata, min_cells=3)\n",
        "sc.pp.normalize_total(adata, target_sum=1e4)\n",
        "sc.pp.log1p(adata)\n",
        "sc.pp.highly_variable_genes(adata, min_mean=0.0125, max_mean=3, min_disp=0.5)\n",
        "adata = adata[:, adata.var.highly_variable]"
      ],
      "metadata": {
        "id": "m8f2qXBYTatb"
      },
      "id": "m8f2qXBYTatb",
      "execution_count": null,
      "outputs": []
    },
    {
      "cell_type": "code",
      "source": [
        "# PCA, neighbors, UMAP\n",
        "sc.pp.scale(adata, max_value=10)\n",
        "sc.tl.pca(adata, svd_solver='arpack')\n",
        "sc.pp.neighbors(adata, n_neighbors=10, n_pcs=40)\n",
        "sc.tl.umap(adata)"
      ],
      "metadata": {
        "id": "p9lqEKN-TcKa"
      },
      "id": "p9lqEKN-TcKa",
      "execution_count": null,
      "outputs": []
    },
    {
      "cell_type": "code",
      "execution_count": 4,
      "id": "09a7c4b0",
      "metadata": {
        "colab": {
          "base_uri": "https://localhost:8080/",
          "height": 613,
          "referenced_widgets": [
            "6ab91254ba084bfdb4baf0ac63784960",
            "0d3e5f571580484288c25bfd5dee71a6",
            "c92c5684c8914ce2abf05a5676f2c94e",
            "7f375eda6bdb4606b294e6a11d1bcb07",
            "77cb00bcff9b4beba0b22cfa36ddc28a",
            "c7bbad10aac64cdda4a3740fdd6dd301",
            "34d07520e2d54b5c95b30fa60a2f1023",
            "4642000e7a9a494099b63e82064c3611",
            "787ec1b64bcb4aabba7a2d29a8395062",
            "30eeb36e715e4ec5aec43244ad9ad052",
            "a3d87e11b477469d82418c0d70b5b73b"
          ]
        },
        "id": "09a7c4b0",
        "outputId": "aa0104d1-f351-4a17-8d0e-ff7ee71db7e9"
      },
      "outputs": [
        {
          "output_type": "display_data",
          "data": {
            "text/plain": [
              "  0%|          | 0.00/5.58M [00:00<?, ?B/s]"
            ],
            "application/vnd.jupyter.widget-view+json": {
              "version_major": 2,
              "version_minor": 0,
              "model_id": "6ab91254ba084bfdb4baf0ac63784960"
            }
          },
          "metadata": {}
        },
        {
          "output_type": "stream",
          "name": "stderr",
          "text": [
            "/usr/local/lib/python3.11/dist-packages/scanpy/preprocessing/_simple.py:170: ImplicitModificationWarning: Trying to modify attribute `.obs` of view, initializing view as actual.\n",
            "  adata.obs[\"n_genes\"] = number\n",
            "/usr/local/lib/python3.11/dist-packages/scanpy/preprocessing/_scale.py:317: UserWarning: Received a view of an AnnData. Making a copy.\n",
            "  view_to_actual(adata)\n"
          ]
        },
        {
          "output_type": "error",
          "ename": "ImportError",
          "evalue": "Please install the igraph package: `conda install -c conda-forge python-igraph` or `pip3 install igraph`.",
          "traceback": [
            "\u001b[0;31m---------------------------------------------------------------------------\u001b[0m",
            "\u001b[0;31mImportError\u001b[0m                               Traceback (most recent call last)",
            "\u001b[0;32m<ipython-input-4-f94a03908417>\u001b[0m in \u001b[0;36m<cell line: 0>\u001b[0;34m()\u001b[0m\n\u001b[1;32m     21\u001b[0m \u001b[0;34m\u001b[0m\u001b[0m\n\u001b[1;32m     22\u001b[0m \u001b[0;31m# Clustering\u001b[0m\u001b[0;34m\u001b[0m\u001b[0;34m\u001b[0m\u001b[0m\n\u001b[0;32m---> 23\u001b[0;31m \u001b[0msc\u001b[0m\u001b[0;34m.\u001b[0m\u001b[0mtl\u001b[0m\u001b[0;34m.\u001b[0m\u001b[0mleiden\u001b[0m\u001b[0;34m(\u001b[0m\u001b[0madata\u001b[0m\u001b[0;34m)\u001b[0m\u001b[0;34m\u001b[0m\u001b[0;34m\u001b[0m\u001b[0m\n\u001b[0m\u001b[1;32m     24\u001b[0m \u001b[0msc\u001b[0m\u001b[0;34m.\u001b[0m\u001b[0mpl\u001b[0m\u001b[0;34m.\u001b[0m\u001b[0mumap\u001b[0m\u001b[0;34m(\u001b[0m\u001b[0madata\u001b[0m\u001b[0;34m,\u001b[0m \u001b[0mcolor\u001b[0m\u001b[0;34m=\u001b[0m\u001b[0;34m[\u001b[0m\u001b[0;34m'leiden'\u001b[0m\u001b[0;34m]\u001b[0m\u001b[0;34m,\u001b[0m \u001b[0mtitle\u001b[0m\u001b[0;34m=\u001b[0m\u001b[0;34m'UMAP with Leiden Clusters'\u001b[0m\u001b[0;34m)\u001b[0m\u001b[0;34m\u001b[0m\u001b[0;34m\u001b[0m\u001b[0m\n",
            "\u001b[0;32m/usr/local/lib/python3.11/dist-packages/scanpy/tools/_leiden.py\u001b[0m in \u001b[0;36mleiden\u001b[0;34m(adata, resolution, restrict_to, random_state, key_added, adjacency, directed, use_weights, n_iterations, partition_type, neighbors_key, obsp, copy, flavor, **clustering_args)\u001b[0m\n\u001b[1;32m    126\u001b[0m         )\n\u001b[1;32m    127\u001b[0m         \u001b[0;32mraise\u001b[0m \u001b[0mValueError\u001b[0m\u001b[0;34m(\u001b[0m\u001b[0mmsg\u001b[0m\u001b[0;34m)\u001b[0m\u001b[0;34m\u001b[0m\u001b[0;34m\u001b[0m\u001b[0m\n\u001b[0;32m--> 128\u001b[0;31m     \u001b[0m_utils\u001b[0m\u001b[0;34m.\u001b[0m\u001b[0mensure_igraph\u001b[0m\u001b[0;34m(\u001b[0m\u001b[0;34m)\u001b[0m\u001b[0;34m\u001b[0m\u001b[0;34m\u001b[0m\u001b[0m\n\u001b[0m\u001b[1;32m    129\u001b[0m     \u001b[0;32mif\u001b[0m \u001b[0mflavor\u001b[0m \u001b[0;34m==\u001b[0m \u001b[0;34m\"igraph\"\u001b[0m\u001b[0;34m:\u001b[0m\u001b[0;34m\u001b[0m\u001b[0;34m\u001b[0m\u001b[0m\n\u001b[1;32m    130\u001b[0m         \u001b[0;32mif\u001b[0m \u001b[0mdirected\u001b[0m\u001b[0;34m:\u001b[0m\u001b[0;34m\u001b[0m\u001b[0;34m\u001b[0m\u001b[0m\n",
            "\u001b[0;32m/usr/local/lib/python3.11/dist-packages/scanpy/_utils/__init__.py\u001b[0m in \u001b[0;36mensure_igraph\u001b[0;34m()\u001b[0m\n\u001b[1;32m    107\u001b[0m         \u001b[0;34m\"`pip3 install igraph`.\"\u001b[0m\u001b[0;34m\u001b[0m\u001b[0;34m\u001b[0m\u001b[0m\n\u001b[1;32m    108\u001b[0m     )\n\u001b[0;32m--> 109\u001b[0;31m     \u001b[0;32mraise\u001b[0m \u001b[0mImportError\u001b[0m\u001b[0;34m(\u001b[0m\u001b[0mmsg\u001b[0m\u001b[0;34m)\u001b[0m\u001b[0;34m\u001b[0m\u001b[0;34m\u001b[0m\u001b[0m\n\u001b[0m\u001b[1;32m    110\u001b[0m \u001b[0;34m\u001b[0m\u001b[0m\n\u001b[1;32m    111\u001b[0m \u001b[0;34m\u001b[0m\u001b[0m\n",
            "\u001b[0;31mImportError\u001b[0m: Please install the igraph package: `conda install -c conda-forge python-igraph` or `pip3 install igraph`.",
            "",
            "\u001b[0;31m---------------------------------------------------------------------------\u001b[0;32m\nNOTE: If your import is failing due to a missing package, you can\nmanually install dependencies using either !pip or !apt.\n\nTo view examples of installing some common dependencies, click the\n\"Open Examples\" button below.\n\u001b[0;31m---------------------------------------------------------------------------\u001b[0m\n"
          ],
          "errorDetails": {
            "actions": [
              {
                "action": "open_url",
                "actionText": "Open Examples",
                "url": "/notebooks/snippets/importing_libraries.ipynb"
              }
            ]
          }
        }
      ],
      "source": [
        "# Clustering\n",
        "sc.tl.leiden(adata)\n",
        "sc.pl.umap(adata, color=['leiden'], title='UMAP with Leiden Clusters')"
      ]
    },
    {
      "cell_type": "code",
      "execution_count": null,
      "id": "5c218f99",
      "metadata": {
        "id": "5c218f99"
      },
      "outputs": [],
      "source": [
        "# Marker genes\n",
        "sc.tl.rank_genes_groups(adata, 'leiden', method='t-test')\n",
        "sc.pl.rank_genes_groups(adata, n_genes=10, sharey=False)\n",
        "sc.pl.rank_genes_groups_heatmap(adata, n_genes=5, groupby='leiden', show=True)"
      ]
    },
    {
      "cell_type": "markdown",
      "id": "906fd842",
      "metadata": {
        "id": "906fd842"
      },
      "source": [
        "**Interpretation:** The clusters represent different immune cell types in PBMCs. The UMAP plot shows clear separations, and marker gene heatmap provides top markers per cluster."
      ]
    },
    {
      "cell_type": "markdown",
      "id": "dce03055",
      "metadata": {
        "id": "dce03055"
      },
      "source": [
        "## Part 2a: Deep Learning - PyTorch Autoencoder"
      ]
    },
    {
      "cell_type": "code",
      "execution_count": null,
      "id": "b7f38c00",
      "metadata": {
        "id": "b7f38c00"
      },
      "outputs": [],
      "source": [
        "import torch\n",
        "import torch.nn as nn\n",
        "import torch.optim as optim\n",
        "from sklearn.preprocessing import StandardScaler\n",
        "from sklearn.decomposition import PCA\n",
        "from sklearn.manifold import TSNE\n",
        "import seaborn as sns\n",
        "\n",
        "# Prepare data\n",
        "X = adata.X.toarray() if not isinstance(adata.X, np.ndarray) else adata.X\n",
        "scaler = StandardScaler()\n",
        "X_scaled = scaler.fit_transform(X)\n",
        "X_tensor = torch.tensor(X_scaled, dtype=torch.float32)\n",
        "\n",
        "# Autoencoder model\n",
        "class Autoencoder(nn.Module):\n",
        "    def __init__(self, input_dim, latent_dim):\n",
        "        super().__init__()\n",
        "        self.encoder = nn.Sequential(nn.Linear(input_dim, 64), nn.ReLU(), nn.Linear(64, latent_dim))\n",
        "        self.decoder = nn.Sequential(nn.Linear(latent_dim, 64), nn.ReLU(), nn.Linear(64, input_dim))\n",
        "    def forward(self, x):\n",
        "        z = self.encoder(x)\n",
        "        return self.decoder(z), z\n",
        "\n",
        "model = Autoencoder(X_tensor.shape[1], 10)\n",
        "optimizer = optim.Adam(model.parameters(), lr=1e-3)\n",
        "loss_fn = nn.MSELoss()\n",
        "\n",
        "# Train\n",
        "for epoch in range(100):\n",
        "    optimizer.zero_grad()\n",
        "    out, _ = model(X_tensor)\n",
        "    loss = loss_fn(out, X_tensor)\n",
        "    loss.backward()\n",
        "    optimizer.step()\n",
        "    if epoch % 20 == 0:\n",
        "        print(f\"Epoch {epoch}, Loss: {loss.item():.4f}\")\n",
        "\n",
        "# Extract latent space\n",
        "_, latent = model(X_tensor)\n",
        "latent_np = latent.detach().numpy()\n",
        "\n",
        "# Visualize\n",
        "pca = PCA(n_components=2)\n",
        "latent_pca = pca.fit_transform(latent_np)\n",
        "sns.scatterplot(x=latent_pca[:, 0], y=latent_pca[:, 1], hue=adata.obs['leiden'], palette='tab10')\n",
        "plt.title(\"Latent Space via Autoencoder (PCA)\")\n",
        "plt.show()"
      ]
    },
    {
      "cell_type": "markdown",
      "id": "f387f883",
      "metadata": {
        "id": "f387f883"
      },
      "source": [
        "##  Part 2b: Deep Learning - scVI Variational Autoencoder"
      ]
    },
    {
      "cell_type": "code",
      "execution_count": null,
      "id": "1fa2419a",
      "metadata": {
        "id": "1fa2419a"
      },
      "outputs": [],
      "source": [
        "import scvi\n",
        "\n",
        "# Setup scvi model\n",
        "adata_scvi = adata.raw.to_adata() if adata.raw else adata.copy()\n",
        "scvi.model.SCVI.setup_anndata(adata_scvi)\n",
        "vae = scvi.model.SCVI(adata_scvi)\n",
        "vae.train(max_epochs=50)\n",
        "\n",
        "# Extract latent representation\n",
        "adata_scvi.obsm[\"X_scVI\"] = vae.get_latents()\n",
        "sc.pp.neighbors(adata_scvi, use_rep=\"X_scVI\")\n",
        "sc.tl.umap(adata_scvi)\n",
        "sc.pl.umap(adata_scvi, color=\"leiden\", title=\"UMAP of scVI Latent Space\")"
      ]
    },
    {
      "cell_type": "markdown",
      "id": "655ad47f",
      "metadata": {
        "id": "655ad47f"
      },
      "source": [
        "##  Part 3: Multi-Omics Integration"
      ]
    },
    {
      "cell_type": "markdown",
      "id": "c2b48d53",
      "metadata": {
        "id": "c2b48d53"
      },
      "source": [
        "**Two Strategies for Integration:**\n",
        "1. Early Integration (Concatenation): Combine features before model input.\n",
        "2. Late Integration (Ensemble): Separate models for each omic type, combine outputs.\n",
        "\n",
        "**Minimal Code for Concatenation:**\n",
        "```python\n",
        "rna = adata.layers['rna']\n",
        "protein = adata.obsm['protein']\n",
        "combined = np.concatenate([rna, protein], axis=1)\n",
        "```"
      ]
    },
    {
      "cell_type": "markdown",
      "id": "311d357a",
      "metadata": {
        "id": "311d357a"
      },
      "source": [
        "##  Part 4: Scientific Reasoning"
      ]
    },
    {
      "cell_type": "markdown",
      "id": "c89f9814",
      "metadata": {
        "id": "c89f9814"
      },
      "source": [
        "**3 Possible Causes of Poor Clustering:**\n",
        "1. Inadequate normalization or preprocessing\n",
        "2. Too few PCs or wrong neighborhood parameters\n",
        "3. Biologically similar cells genuinely hard to distinguish\n",
        "\n",
        "**2 Suggestions:**\n",
        "- Increase resolution or try alternative clustering\n",
        "- Use more robust latent space (e.g., scVI or Harmony)\n",
        "\n",
        "**Abstract:**\n",
        "We performed a comprehensive analysis of PBMC single-cell transcriptomic data using Scanpy and deep learning approaches. Our preprocessing and clustering pipeline revealed distinct immune cell populations. An autoencoder and scVI model were trained to reduce dimensionality and capture meaningful latent representations. Integration strategies and biological interpretation were explored, highlighting the value of generative AI in single-cell omics."
      ]
    }
  ],
  "metadata": {
    "colab": {
      "provenance": []
    },
    "language_info": {
      "name": "python"
    },
    "kernelspec": {
      "name": "python3",
      "display_name": "Python 3"
    },
    "widgets": {
      "application/vnd.jupyter.widget-state+json": {
        "6ab91254ba084bfdb4baf0ac63784960": {
          "model_module": "@jupyter-widgets/controls",
          "model_name": "HBoxModel",
          "model_module_version": "1.5.0",
          "state": {
            "_dom_classes": [],
            "_model_module": "@jupyter-widgets/controls",
            "_model_module_version": "1.5.0",
            "_model_name": "HBoxModel",
            "_view_count": null,
            "_view_module": "@jupyter-widgets/controls",
            "_view_module_version": "1.5.0",
            "_view_name": "HBoxView",
            "box_style": "",
            "children": [
              "IPY_MODEL_0d3e5f571580484288c25bfd5dee71a6",
              "IPY_MODEL_c92c5684c8914ce2abf05a5676f2c94e",
              "IPY_MODEL_7f375eda6bdb4606b294e6a11d1bcb07"
            ],
            "layout": "IPY_MODEL_77cb00bcff9b4beba0b22cfa36ddc28a"
          }
        },
        "0d3e5f571580484288c25bfd5dee71a6": {
          "model_module": "@jupyter-widgets/controls",
          "model_name": "HTMLModel",
          "model_module_version": "1.5.0",
          "state": {
            "_dom_classes": [],
            "_model_module": "@jupyter-widgets/controls",
            "_model_module_version": "1.5.0",
            "_model_name": "HTMLModel",
            "_view_count": null,
            "_view_module": "@jupyter-widgets/controls",
            "_view_module_version": "1.5.0",
            "_view_name": "HTMLView",
            "description": "",
            "description_tooltip": null,
            "layout": "IPY_MODEL_c7bbad10aac64cdda4a3740fdd6dd301",
            "placeholder": "​",
            "style": "IPY_MODEL_34d07520e2d54b5c95b30fa60a2f1023",
            "value": "100%"
          }
        },
        "c92c5684c8914ce2abf05a5676f2c94e": {
          "model_module": "@jupyter-widgets/controls",
          "model_name": "FloatProgressModel",
          "model_module_version": "1.5.0",
          "state": {
            "_dom_classes": [],
            "_model_module": "@jupyter-widgets/controls",
            "_model_module_version": "1.5.0",
            "_model_name": "FloatProgressModel",
            "_view_count": null,
            "_view_module": "@jupyter-widgets/controls",
            "_view_module_version": "1.5.0",
            "_view_name": "ProgressView",
            "bar_style": "success",
            "description": "",
            "description_tooltip": null,
            "layout": "IPY_MODEL_4642000e7a9a494099b63e82064c3611",
            "max": 5855727,
            "min": 0,
            "orientation": "horizontal",
            "style": "IPY_MODEL_787ec1b64bcb4aabba7a2d29a8395062",
            "value": 5855727
          }
        },
        "7f375eda6bdb4606b294e6a11d1bcb07": {
          "model_module": "@jupyter-widgets/controls",
          "model_name": "HTMLModel",
          "model_module_version": "1.5.0",
          "state": {
            "_dom_classes": [],
            "_model_module": "@jupyter-widgets/controls",
            "_model_module_version": "1.5.0",
            "_model_name": "HTMLModel",
            "_view_count": null,
            "_view_module": "@jupyter-widgets/controls",
            "_view_module_version": "1.5.0",
            "_view_name": "HTMLView",
            "description": "",
            "description_tooltip": null,
            "layout": "IPY_MODEL_30eeb36e715e4ec5aec43244ad9ad052",
            "placeholder": "​",
            "style": "IPY_MODEL_a3d87e11b477469d82418c0d70b5b73b",
            "value": " 5.58M/5.58M [00:01&lt;00:00, 10.2MB/s]"
          }
        },
        "77cb00bcff9b4beba0b22cfa36ddc28a": {
          "model_module": "@jupyter-widgets/base",
          "model_name": "LayoutModel",
          "model_module_version": "1.2.0",
          "state": {
            "_model_module": "@jupyter-widgets/base",
            "_model_module_version": "1.2.0",
            "_model_name": "LayoutModel",
            "_view_count": null,
            "_view_module": "@jupyter-widgets/base",
            "_view_module_version": "1.2.0",
            "_view_name": "LayoutView",
            "align_content": null,
            "align_items": null,
            "align_self": null,
            "border": null,
            "bottom": null,
            "display": null,
            "flex": null,
            "flex_flow": null,
            "grid_area": null,
            "grid_auto_columns": null,
            "grid_auto_flow": null,
            "grid_auto_rows": null,
            "grid_column": null,
            "grid_gap": null,
            "grid_row": null,
            "grid_template_areas": null,
            "grid_template_columns": null,
            "grid_template_rows": null,
            "height": null,
            "justify_content": null,
            "justify_items": null,
            "left": null,
            "margin": null,
            "max_height": null,
            "max_width": null,
            "min_height": null,
            "min_width": null,
            "object_fit": null,
            "object_position": null,
            "order": null,
            "overflow": null,
            "overflow_x": null,
            "overflow_y": null,
            "padding": null,
            "right": null,
            "top": null,
            "visibility": null,
            "width": null
          }
        },
        "c7bbad10aac64cdda4a3740fdd6dd301": {
          "model_module": "@jupyter-widgets/base",
          "model_name": "LayoutModel",
          "model_module_version": "1.2.0",
          "state": {
            "_model_module": "@jupyter-widgets/base",
            "_model_module_version": "1.2.0",
            "_model_name": "LayoutModel",
            "_view_count": null,
            "_view_module": "@jupyter-widgets/base",
            "_view_module_version": "1.2.0",
            "_view_name": "LayoutView",
            "align_content": null,
            "align_items": null,
            "align_self": null,
            "border": null,
            "bottom": null,
            "display": null,
            "flex": null,
            "flex_flow": null,
            "grid_area": null,
            "grid_auto_columns": null,
            "grid_auto_flow": null,
            "grid_auto_rows": null,
            "grid_column": null,
            "grid_gap": null,
            "grid_row": null,
            "grid_template_areas": null,
            "grid_template_columns": null,
            "grid_template_rows": null,
            "height": null,
            "justify_content": null,
            "justify_items": null,
            "left": null,
            "margin": null,
            "max_height": null,
            "max_width": null,
            "min_height": null,
            "min_width": null,
            "object_fit": null,
            "object_position": null,
            "order": null,
            "overflow": null,
            "overflow_x": null,
            "overflow_y": null,
            "padding": null,
            "right": null,
            "top": null,
            "visibility": null,
            "width": null
          }
        },
        "34d07520e2d54b5c95b30fa60a2f1023": {
          "model_module": "@jupyter-widgets/controls",
          "model_name": "DescriptionStyleModel",
          "model_module_version": "1.5.0",
          "state": {
            "_model_module": "@jupyter-widgets/controls",
            "_model_module_version": "1.5.0",
            "_model_name": "DescriptionStyleModel",
            "_view_count": null,
            "_view_module": "@jupyter-widgets/base",
            "_view_module_version": "1.2.0",
            "_view_name": "StyleView",
            "description_width": ""
          }
        },
        "4642000e7a9a494099b63e82064c3611": {
          "model_module": "@jupyter-widgets/base",
          "model_name": "LayoutModel",
          "model_module_version": "1.2.0",
          "state": {
            "_model_module": "@jupyter-widgets/base",
            "_model_module_version": "1.2.0",
            "_model_name": "LayoutModel",
            "_view_count": null,
            "_view_module": "@jupyter-widgets/base",
            "_view_module_version": "1.2.0",
            "_view_name": "LayoutView",
            "align_content": null,
            "align_items": null,
            "align_self": null,
            "border": null,
            "bottom": null,
            "display": null,
            "flex": null,
            "flex_flow": null,
            "grid_area": null,
            "grid_auto_columns": null,
            "grid_auto_flow": null,
            "grid_auto_rows": null,
            "grid_column": null,
            "grid_gap": null,
            "grid_row": null,
            "grid_template_areas": null,
            "grid_template_columns": null,
            "grid_template_rows": null,
            "height": null,
            "justify_content": null,
            "justify_items": null,
            "left": null,
            "margin": null,
            "max_height": null,
            "max_width": null,
            "min_height": null,
            "min_width": null,
            "object_fit": null,
            "object_position": null,
            "order": null,
            "overflow": null,
            "overflow_x": null,
            "overflow_y": null,
            "padding": null,
            "right": null,
            "top": null,
            "visibility": null,
            "width": null
          }
        },
        "787ec1b64bcb4aabba7a2d29a8395062": {
          "model_module": "@jupyter-widgets/controls",
          "model_name": "ProgressStyleModel",
          "model_module_version": "1.5.0",
          "state": {
            "_model_module": "@jupyter-widgets/controls",
            "_model_module_version": "1.5.0",
            "_model_name": "ProgressStyleModel",
            "_view_count": null,
            "_view_module": "@jupyter-widgets/base",
            "_view_module_version": "1.2.0",
            "_view_name": "StyleView",
            "bar_color": null,
            "description_width": ""
          }
        },
        "30eeb36e715e4ec5aec43244ad9ad052": {
          "model_module": "@jupyter-widgets/base",
          "model_name": "LayoutModel",
          "model_module_version": "1.2.0",
          "state": {
            "_model_module": "@jupyter-widgets/base",
            "_model_module_version": "1.2.0",
            "_model_name": "LayoutModel",
            "_view_count": null,
            "_view_module": "@jupyter-widgets/base",
            "_view_module_version": "1.2.0",
            "_view_name": "LayoutView",
            "align_content": null,
            "align_items": null,
            "align_self": null,
            "border": null,
            "bottom": null,
            "display": null,
            "flex": null,
            "flex_flow": null,
            "grid_area": null,
            "grid_auto_columns": null,
            "grid_auto_flow": null,
            "grid_auto_rows": null,
            "grid_column": null,
            "grid_gap": null,
            "grid_row": null,
            "grid_template_areas": null,
            "grid_template_columns": null,
            "grid_template_rows": null,
            "height": null,
            "justify_content": null,
            "justify_items": null,
            "left": null,
            "margin": null,
            "max_height": null,
            "max_width": null,
            "min_height": null,
            "min_width": null,
            "object_fit": null,
            "object_position": null,
            "order": null,
            "overflow": null,
            "overflow_x": null,
            "overflow_y": null,
            "padding": null,
            "right": null,
            "top": null,
            "visibility": null,
            "width": null
          }
        },
        "a3d87e11b477469d82418c0d70b5b73b": {
          "model_module": "@jupyter-widgets/controls",
          "model_name": "DescriptionStyleModel",
          "model_module_version": "1.5.0",
          "state": {
            "_model_module": "@jupyter-widgets/controls",
            "_model_module_version": "1.5.0",
            "_model_name": "DescriptionStyleModel",
            "_view_count": null,
            "_view_module": "@jupyter-widgets/base",
            "_view_module_version": "1.2.0",
            "_view_name": "StyleView",
            "description_width": ""
          }
        }
      }
    }
  },
  "nbformat": 4,
  "nbformat_minor": 5
}