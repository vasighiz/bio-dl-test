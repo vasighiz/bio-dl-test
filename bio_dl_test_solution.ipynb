{
 "cells": [
  {
   "cell_type": "markdown",
   "id": "03a250f3",
   "metadata": {},
   "source": [
     ![Open In Colab](https://colab.research.google.com/assets/colab-badge.svg)](https://colab.research.google.com/github/vasighiz/bio-dl-test/blob/main/bio_dl_test_solution.ipynb)

    "#  Part 1: Scanpy-based scRNA-seq Analysis"
   ]
  },
  {
   "cell_type": "code",
   "execution_count": null,
   "id": "09a7c4b0",
   "metadata": {},
   "outputs": [],
   "source": [
    "import scanpy as sc\n",
    "import matplotlib.pyplot as plt\n",
    "\n",
    "# Load dataset\n",
    "adata = sc.datasets.pbmc3k()\n",
    "adata = adata[:300]  # Subsample for speed\n",
    "\n",
    "# Preprocessing\n",
    "sc.pp.filter_cells(adata, min_genes=200)\n",
    "sc.pp.filter_genes(adata, min_cells=3)\n",
    "sc.pp.normalize_total(adata, target_sum=1e4)\n",
    "sc.pp.log1p(adata)\n",
    "sc.pp.highly_variable_genes(adata, min_mean=0.0125, max_mean=3, min_disp=0.5)\n",
    "adata = adata[:, adata.var.highly_variable]\n",
    "\n",
    "# PCA, neighbors, UMAP\n",
    "sc.pp.scale(adata, max_value=10)\n",
    "sc.tl.pca(adata, svd_solver='arpack')\n",
    "sc.pp.neighbors(adata, n_neighbors=10, n_pcs=40)\n",
    "sc.tl.umap(adata)\n",
    "\n",
    "# Clustering\n",
    "sc.tl.leiden(adata)\n",
    "sc.pl.umap(adata, color=['leiden'], title='UMAP with Leiden Clusters')"
   ]
  },
  {
   "cell_type": "code",
   "execution_count": null,
   "id": "5c218f99",
   "metadata": {},
   "outputs": [],
   "source": [
    "# Marker genes\n",
    "sc.tl.rank_genes_groups(adata, 'leiden', method='t-test')\n",
    "sc.pl.rank_genes_groups(adata, n_genes=10, sharey=False)\n",
    "sc.pl.rank_genes_groups_heatmap(adata, n_genes=5, groupby='leiden', show=True)"
   ]
  },
  {
   "cell_type": "markdown",
   "id": "906fd842",
   "metadata": {},
   "source": [
    "**Interpretation:** The clusters represent different immune cell types in PBMCs. The UMAP plot shows clear separations, and marker gene heatmap provides top markers per cluster."
   ]
  },
  {
   "cell_type": "markdown",
   "id": "dce03055",
   "metadata": {},
   "source": [
    "## Part 2a: Deep Learning - PyTorch Autoencoder"
   ]
  },
  {
   "cell_type": "code",
   "execution_count": null,
   "id": "b7f38c00",
   "metadata": {},
   "outputs": [],
   "source": [
    "import torch\n",
    "import torch.nn as nn\n",
    "import torch.optim as optim\n",
    "from sklearn.preprocessing import StandardScaler\n",
    "from sklearn.decomposition import PCA\n",
    "from sklearn.manifold import TSNE\n",
    "import seaborn as sns\n",
    "\n",
    "# Prepare data\n",
    "X = adata.X.toarray() if not isinstance(adata.X, np.ndarray) else adata.X\n",
    "scaler = StandardScaler()\n",
    "X_scaled = scaler.fit_transform(X)\n",
    "X_tensor = torch.tensor(X_scaled, dtype=torch.float32)\n",
    "\n",
    "# Autoencoder model\n",
    "class Autoencoder(nn.Module):\n",
    "    def __init__(self, input_dim, latent_dim):\n",
    "        super().__init__()\n",
    "        self.encoder = nn.Sequential(nn.Linear(input_dim, 64), nn.ReLU(), nn.Linear(64, latent_dim))\n",
    "        self.decoder = nn.Sequential(nn.Linear(latent_dim, 64), nn.ReLU(), nn.Linear(64, input_dim))\n",
    "    def forward(self, x):\n",
    "        z = self.encoder(x)\n",
    "        return self.decoder(z), z\n",
    "\n",
    "model = Autoencoder(X_tensor.shape[1], 10)\n",
    "optimizer = optim.Adam(model.parameters(), lr=1e-3)\n",
    "loss_fn = nn.MSELoss()\n",
    "\n",
    "# Train\n",
    "for epoch in range(100):\n",
    "    optimizer.zero_grad()\n",
    "    out, _ = model(X_tensor)\n",
    "    loss = loss_fn(out, X_tensor)\n",
    "    loss.backward()\n",
    "    optimizer.step()\n",
    "    if epoch % 20 == 0:\n",
    "        print(f\"Epoch {epoch}, Loss: {loss.item():.4f}\")\n",
    "\n",
    "# Extract latent space\n",
    "_, latent = model(X_tensor)\n",
    "latent_np = latent.detach().numpy()\n",
    "\n",
    "# Visualize\n",
    "pca = PCA(n_components=2)\n",
    "latent_pca = pca.fit_transform(latent_np)\n",
    "sns.scatterplot(x=latent_pca[:, 0], y=latent_pca[:, 1], hue=adata.obs['leiden'], palette='tab10')\n",
    "plt.title(\"Latent Space via Autoencoder (PCA)\")\n",
    "plt.show()"
   ]
  },
  {
   "cell_type": "markdown",
   "id": "f387f883",
   "metadata": {},
   "source": [
    "##  Part 2b: Deep Learning - scVI Variational Autoencoder"
   ]
  },
  {
   "cell_type": "code",
   "execution_count": null,
   "id": "1fa2419a",
   "metadata": {},
   "outputs": [],
   "source": [
    "import scvi\n",
    "\n",
    "# Setup scvi model\n",
    "adata_scvi = adata.raw.to_adata() if adata.raw else adata.copy()\n",
    "scvi.model.SCVI.setup_anndata(adata_scvi)\n",
    "vae = scvi.model.SCVI(adata_scvi)\n",
    "vae.train(max_epochs=50)\n",
    "\n",
    "# Extract latent representation\n",
    "adata_scvi.obsm[\"X_scVI\"] = vae.get_latents()\n",
    "sc.pp.neighbors(adata_scvi, use_rep=\"X_scVI\")\n",
    "sc.tl.umap(adata_scvi)\n",
    "sc.pl.umap(adata_scvi, color=\"leiden\", title=\"UMAP of scVI Latent Space\")"
   ]
  },
  {
   "cell_type": "markdown",
   "id": "655ad47f",
   "metadata": {},
   "source": [
    "##  Part 3: Multi-Omics Integration"
   ]
  },
  {
   "cell_type": "markdown",
   "id": "c2b48d53",
   "metadata": {},
   "source": [
    "**Two Strategies for Integration:**\n",
    "1. Early Integration (Concatenation): Combine features before model input.\n",
    "2. Late Integration (Ensemble): Separate models for each omic type, combine outputs.\n",
    "\n",
    "**Minimal Code for Concatenation:**\n",
    "```python\n",
    "rna = adata.layers['rna']\n",
    "protein = adata.obsm['protein']\n",
    "combined = np.concatenate([rna, protein], axis=1)\n",
    "```"
   ]
  },
  {
   "cell_type": "markdown",
   "id": "311d357a",
   "metadata": {},
   "source": [
    "##  Part 4: Scientific Reasoning"
   ]
  },
  {
   "cell_type": "markdown",
   "id": "c89f9814",
   "metadata": {},
   "source": [
    "**3 Possible Causes of Poor Clustering:**\n",
    "1. Inadequate normalization or preprocessing\n",
    "2. Too few PCs or wrong neighborhood parameters\n",
    "3. Biologically similar cells genuinely hard to distinguish\n",
    "\n",
    "**2 Suggestions:**\n",
    "- Increase resolution or try alternative clustering\n",
    "- Use more robust latent space (e.g., scVI or Harmony)\n",
    "\n",
    "**Abstract:**\n",
    "We performed a comprehensive analysis of PBMC single-cell transcriptomic data using Scanpy and deep learning approaches. Our preprocessing and clustering pipeline revealed distinct immune cell populations. An autoencoder and scVI model were trained to reduce dimensionality and capture meaningful latent representations. Integration strategies and biological interpretation were explored, highlighting the value of generative AI in single-cell omics."
   ]
  }
 ],
 "metadata": {},
 "nbformat": 4,
 "nbformat_minor": 5
}
