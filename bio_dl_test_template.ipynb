{
 "cells": [
  {
   "cell_type": "markdown",
   "id": "a7f8e0bf",
   "metadata": {},
   "source": [
    "#  Bioinformatics + Deep Learning Technical Test"
   ]
  },
  {
   "cell_type": "markdown",
   "id": "02c12616",
   "metadata": {},
   "source": [
    "##  Part 1: Scanpy Analysis\n",
    "- Load PBMC3k dataset\n",
    "- Preprocess and visualize"
   ]
  },
  {
   "cell_type": "code",
   "execution_count": null,
   "id": "f8677078",
   "metadata": {},
   "outputs": [],
   "source": [
    "import scanpy as sc\n",
    "adata = sc.datasets.pbmc3k()\n",
    "sc.pp.filter_cells(adata, min_genes=200)\n",
    "sc.pp.filter_genes(adata, min_cells=3)\n",
    "# Continue preprocessing..."
   ]
  },
  {
   "cell_type": "markdown",
   "id": "b13e7fa4",
   "metadata": {},
   "source": [
    "##  Part 2: Autoencoder or scVI Model"
   ]
  },
  {
   "cell_type": "code",
   "execution_count": null,
   "id": "2491a982",
   "metadata": {},
   "outputs": [],
   "source": [
    "# Define and train an autoencoder or use scVI"
   ]
  },
  {
   "cell_type": "markdown",
   "id": "47411854",
   "metadata": {},
   "source": [
    "##  Part 3: Multi-Omics Integration\n",
    "- Theoretical question and pseudocode"
   ]
  },
  {
   "cell_type": "code",
   "execution_count": null,
   "id": "91c05bc9",
   "metadata": {},
   "outputs": [],
   "source": [
    "# Pseudocode or minimal implementation of integration"
   ]
  },
  {
   "cell_type": "markdown",
   "id": "af244644",
   "metadata": {},
   "source": [
    "##  Part 4: Scientific Reasoning\n",
    "- List causes of clustering issues\n",
    "- Write an abstract summarizing the project"
   ]
  },
  {
   "cell_type": "code",
   "execution_count": null,
   "id": "664474de",
   "metadata": {},
   "outputs": [],
   "source": [
    "# Add any reflections, notes, or bonus challenges here."
   ]
  }
 ],
 "metadata": {},
 "nbformat": 4,
 "nbformat_minor": 5
}
