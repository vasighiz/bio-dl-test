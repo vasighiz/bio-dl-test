{
 "cells": [
  {
   "cell_type": "markdown",
   "id": "03a250f3",
   "metadata": {
    "id": "03a250f3"
   },
   "source": [
    "#  Part 1: Scanpy-based scRNA-seq Analysis"
   ]
  },
  {
   "cell_type": "code",
   "execution_count": null,
   "id": "YJLVx01QSp5E",
   "metadata": {},
   "outputs": [],
   "source": [
    "pip install scanpy --quiet"
   ]
  },
  {
   "cell_type": "code",
   "execution_count": null,
   "id": "FOg-X57XTKc1",
   "metadata": {},
   "outputs": [],
   "source": [
    "pip install igraph --quiet"
   ]
  },
  {
   "cell_type": "code",
   "execution_count": null,
   "id": "_l19rROGUSON",
   "metadata": {},
   "outputs": [],
   "source": [
    "pip install leidenalg --quiet"
   ]
  },
  {
   "cell_type": "code",
   "execution_count": null,
   "id": "2Y0xv_DWTRa_",
   "metadata": {},
   "outputs": [],
   "source": [
    "import scanpy as sc\n",
    "import matplotlib.pyplot as plt"
   ]
  },
  {
   "cell_type": "code",
   "execution_count": null,
   "id": "d-FZE-MmTYpi",
   "metadata": {},
   "outputs": [],
   "source": [
    "# Load dataset\n",
    "adata = sc.datasets.pbmc3k()\n",
    "adata = adata[:300]  # Subsample for speed"
   ]
  },
  {
   "cell_type": "code",
   "execution_count": null,
   "id": "m8f2qXBYTatb",
   "metadata": {},
   "outputs": [],
   "source": [
    "# Preprocessing\n",
    "sc.pp.filter_cells(adata, min_genes=200)\n",
    "sc.pp.filter_genes(adata, min_cells=3)\n",
    "sc.pp.normalize_total(adata, target_sum=1e4)\n",
    "sc.pp.log1p(adata)\n",
    "sc.pp.highly_variable_genes(adata, min_mean=0.0125, max_mean=3, min_disp=0.5)\n",
    "adata = adata[:, adata.var.highly_variable]"
   ]
  },
  {
   "cell_type": "code",
   "execution_count": null,
   "id": "p9lqEKN-TcKa",
   "metadata": {},
   "outputs": [],
   "source": [
    "# PCA, neighbors, UMAP\n",
    "sc.pp.scale(adata, max_value=10)\n",
    "sc.tl.pca(adata, svd_solver='arpack')\n",
    "sc.pp.neighbors(adata, n_neighbors=10, n_pcs=40)\n",
    "sc.tl.umap(adata)"
   ]
  },
  {
   "cell_type": "code",
   "execution_count": null,
   "id": "09a7c4b0",
   "metadata": {},
   "outputs": [],
   "source": [
    "# Clustering\n",
    "sc.tl.leiden(adata)\n",
    "sc.pl.umap(adata, color=['leiden'], title='UMAP with Leiden Clusters')"
   ]
  },
  {
   "cell_type": "code",
   "execution_count": null,
   "id": "5c218f99",
   "metadata": {},
   "outputs": [],
   "source": [
    "# Marker genes\n",
    "sc.tl.rank_genes_groups(adata, 'leiden', method='t-test')\n",
    "sc.pl.rank_genes_groups(adata, n_genes=10, sharey=False)\n",
    "sc.pl.rank_genes_groups_heatmap(adata, n_genes=5, groupby='leiden', show=True)"
   ]
  },
  {
   "cell_type": "markdown",
   "id": "906fd842",
   "metadata": {
    "id": "906fd842"
   },
   "source": [
    "**Interpretation:** The clusters represent different immune cell types in PBMCs. The UMAP plot shows clear separations, and marker gene heatmap provides top markers per cluster."
   ]
  },
  {
   "cell_type": "markdown",
   "id": "dce03055",
   "metadata": {
    "id": "dce03055"
   },
   "source": [
    "## Part 2a: Deep Learning - PyTorch Autoencoder"
   ]
  },
  {
   "cell_type": "code",
   "execution_count": null,
   "id": "zfNvL2OCXMuI",
   "metadata": {},
   "outputs": [],
   "source": [
    "import torch\n",
    "import torch.nn as nn\n",
    "import torch.optim as optim\n",
    "from sklearn.preprocessing import StandardScaler\n",
    "from sklearn.decomposition import PCA\n",
    "from sklearn.manifold import TSNE\n",
    "import seaborn as sns\n",
    "import numpy as np"
   ]
  },
  {
   "cell_type": "code",
   "execution_count": null,
   "id": "TaTRSeDzXRbk",
   "metadata": {},
   "outputs": [],
   "source": [
    "# Prepare data\n",
    "X = adata.X.toarray() if not isinstance(adata.X, np.ndarray) else adata.X\n",
    "scaler = StandardScaler()\n",
    "X_scaled = scaler.fit_transform(X)\n",
    "X_tensor = torch.tensor(X_scaled, dtype=torch.float32)"
   ]
  },
  {
   "cell_type": "code",
   "execution_count": null,
   "id": "iflpmegtXe3d",
   "metadata": {},
   "outputs": [],
   "source": [
    "# Autoencoder model\n",
    "class Autoencoder(nn.Module):\n",
    "    def __init__(self, input_dim, latent_dim):\n",
    "        super().__init__()\n",
    "        self.encoder = nn.Sequential(nn.Linear(input_dim, 64), nn.ReLU(), nn.Linear(64, latent_dim))\n",
    "        self.decoder = nn.Sequential(nn.Linear(latent_dim, 64), nn.ReLU(), nn.Linear(64, input_dim))\n",
    "    def forward(self, x):\n",
    "        z = self.encoder(x)\n",
    "        return self.decoder(z), z\n",
    "\n",
    "model = Autoencoder(X_tensor.shape[1], 10)\n",
    "optimizer = optim.Adam(model.parameters(), lr=1e-3)\n",
    "loss_fn = nn.MSELoss()"
   ]
  },
  {
   "cell_type": "code",
   "execution_count": null,
   "id": "KTozLe2jXhaH",
   "metadata": {},
   "outputs": [],
   "source": [
    "# Train\n",
    "for epoch in range(100):\n",
    "    optimizer.zero_grad()\n",
    "    out, _ = model(X_tensor)\n",
    "    loss = loss_fn(out, X_tensor)\n",
    "    loss.backward()\n",
    "    optimizer.step()\n",
    "    if epoch % 20 == 0:\n",
    "        print(f\"Epoch {epoch}, Loss: {loss.item():.4f}\")"
   ]
  },
  {
   "cell_type": "code",
   "execution_count": null,
   "id": "3Q-Kv1uiXmzN",
   "metadata": {},
   "outputs": [],
   "source": [
    "# Extract latent space\n",
    "_, latent = model(X_tensor)\n",
    "latent_np = latent.detach().numpy()"
   ]
  },
  {
   "cell_type": "code",
   "execution_count": null,
   "id": "b7f38c00",
   "metadata": {},
   "outputs": [],
   "source": [
    "# Visualize\n",
    "pca = PCA(n_components=2)\n",
    "latent_pca = pca.fit_transform(latent_np)\n",
    "sns.scatterplot(x=latent_pca[:, 0], y=latent_pca[:, 1], hue=adata.obs['leiden'], palette='tab10')\n",
    "plt.title(\"Latent Space via Autoencoder (PCA)\")\n",
    "plt.show()"
   ]
  },
  {
   "cell_type": "markdown",
   "id": "f387f883",
   "metadata": {
    "id": "f387f883"
   },
   "source": [
    "##  Part 2b: Deep Learning - scVI Variational Autoencoder"
   ]
  },
  {
   "cell_type": "code",
   "execution_count": null,
   "id": "Hm852tlEYANK",
   "metadata": {},
   "outputs": [],
   "source": [
    "# First: ensure no old versions remain\n",
    "!pip uninstall -y scvi scvi-tools\n",
    "\n",
    "# Then: install the correct one\n",
    "!pip install --quiet scvi-tools"
   ]
  },
  {
   "cell_type": "code",
   "execution_count": null,
   "id": "yUMVjolBXuWf",
   "metadata": {},
   "outputs": [],
   "source": [
    "import scvi\n",
    "from scvi.model import SCVI"
   ]
  },
  {
   "cell_type": "code",
   "execution_count": null,
   "id": "oaaSq5SCYuKu",
   "metadata": {},
   "outputs": [],
   "source": [
    "# Setup scvi model\n",
    "adata_scvi = adata.raw.to_adata() if adata.raw else adata.copy()\n",
    "scvi.model.SCVI.setup_anndata(adata_scvi)\n",
    "vae = scvi.model.SCVI(adata_scvi)\n",
    "vae.train(max_epochs=50)"
   ]
  },
  {
   "cell_type": "code",
   "execution_count": null,
   "id": "VC9FFf0Se-Ae",
   "metadata": {},
   "outputs": [],
   "source": [
    "# Extract latent representation (use correct method)\n",
    "adata.obsm[\"X_scVI\"] = vae.get_latent_representation()"
   ]
  },
  {
   "cell_type": "code",
   "execution_count": null,
   "id": "z-gS_ghrfDZ-",
   "metadata": {},
   "outputs": [],
   "source": [
    "# Use scVI latent space for clustering and UMAP\n",
    "sc.pp.neighbors(adata, use_rep=\"X_scVI\")\n",
    "sc.tl.leiden(adata)\n",
    "sc.tl.umap(adata)\n",
    "sc.pl.umap(adata, color=\"leiden\", title=\"UMAP of scVI Latent Space\")"
   ]
  },
  {
   "cell_type": "markdown",
   "id": "655ad47f",
   "metadata": {
    "id": "655ad47f"
   },
   "source": [
    "##  Part 3: Multi-Omics Integration"
   ]
  },
  {
   "cell_type": "markdown",
   "id": "c2b48d53",
   "metadata": {
    "id": "c2b48d53"
   },
   "source": [
    "**Two Strategies for Integration:**\n",
    "1. Early Integration (Concatenation): Combine features before model input.\n",
    "2. Late Integration (Ensemble): Separate models for each omic type, combine outputs.\n",
    "\n",
    "**Minimal Code for Concatenation:**\n",
    "```python\n",
    "rna = adata.layers['rna']\n",
    "protein = adata.obsm['protein']\n",
    "combined = np.concatenate([rna, protein], axis=1)\n",
    "```"
   ]
  },
  {
   "cell_type": "markdown",
   "id": "311d357a",
   "metadata": {
    "id": "311d357a"
   },
   "source": [
    "##  Part 4: Scientific Reasoning"
   ]
  },
  {
   "cell_type": "markdown",
   "id": "c89f9814",
   "metadata": {
    "id": "c89f9814"
   },
   "source": [
    "**3 Possible Causes of Poor Clustering:**\n",
    "1. Inadequate normalization or preprocessing\n",
    "2. Too few PCs or wrong neighborhood parameters\n",
    "3. Biologically similar cells genuinely hard to distinguish\n",
    "\n",
    "**2 Suggestions:**\n",
    "- Increase resolution or try alternative clustering\n",
    "- Use more robust latent space (e.g., scVI or Harmony)\n",
    "\n",
    "**Abstract:**\n",
    "We performed a comprehensive analysis of PBMC single-cell transcriptomic data using Scanpy and deep learning approaches. Our preprocessing and clustering pipeline revealed distinct immune cell populations. An autoencoder and scVI model were trained to reduce dimensionality and capture meaningful latent representations. Integration strategies and biological interpretation were explored, highlighting the value of generative AI in single-cell omics."
   ]
  }
 ],
 "metadata": {
  "language_info": {
   "name": "python"
  }
 },
 "nbformat": 4,
 "nbformat_minor": 5
}
