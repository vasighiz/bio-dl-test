{
  "cells": [
    {
      "cell_type": "markdown",
      "metadata": {
        "id": "view-in-github",
        "colab_type": "text"
      },
      "source": [
        "<a href=\"https://colab.research.google.com/github/vasighiz/bio-dl-test/blob/main/solution.ipynb\" target=\"_parent\"><img src=\"https://colab.research.google.com/assets/colab-badge.svg\" alt=\"Open In Colab\"/></a>"
      ]
    },
    {
      "cell_type": "markdown",
      "id": "03a250f3",
      "metadata": {
        "id": "03a250f3"
      },
      "source": [
        "#  Part 1: Scanpy-based scRNA-seq Analysis"
      ]
    },
    {
      "cell_type": "code",
      "execution_count": 1,
      "id": "YJLVx01QSp5E",
      "metadata": {
        "colab": {
          "base_uri": "https://localhost:8080/"
        },
        "id": "YJLVx01QSp5E",
        "outputId": "feae4e96-3bca-4028-d029-46ce5633fccf"
      },
      "outputs": [
        {
          "output_type": "stream",
          "name": "stdout",
          "text": [
            "\u001b[2K   \u001b[90m━━━━━━━━━━━━━━━━━━━━━━━━━━━━━━━━━━━━━━━━\u001b[0m \u001b[32m2.1/2.1 MB\u001b[0m \u001b[31m16.6 MB/s\u001b[0m eta \u001b[36m0:00:00\u001b[0m\n",
            "\u001b[2K   \u001b[90m━━━━━━━━━━━━━━━━━━━━━━━━━━━━━━━━━━━━━━━━\u001b[0m \u001b[32m144.5/144.5 kB\u001b[0m \u001b[31m4.4 MB/s\u001b[0m eta \u001b[36m0:00:00\u001b[0m\n",
            "\u001b[2K   \u001b[90m━━━━━━━━━━━━━━━━━━━━━━━━━━━━━━━━━━━━━━━━\u001b[0m \u001b[32m13.3/13.3 MB\u001b[0m \u001b[31m23.8 MB/s\u001b[0m eta \u001b[36m0:00:00\u001b[0m\n",
            "\u001b[2K   \u001b[90m━━━━━━━━━━━━━━━━━━━━━━━━━━━━━━━━━━━━━━━━\u001b[0m \u001b[32m53.1/53.1 kB\u001b[0m \u001b[31m1.2 MB/s\u001b[0m eta \u001b[36m0:00:00\u001b[0m\n",
            "\u001b[?25h"
          ]
        }
      ],
      "source": [
        "pip install scanpy --quiet"
      ]
    },
    {
      "cell_type": "code",
      "execution_count": 2,
      "id": "FOg-X57XTKc1",
      "metadata": {
        "colab": {
          "base_uri": "https://localhost:8080/"
        },
        "id": "FOg-X57XTKc1",
        "outputId": "654f7d4e-3597-431d-af31-dc2b918fa12f"
      },
      "outputs": [
        {
          "output_type": "stream",
          "name": "stdout",
          "text": [
            "\u001b[?25l   \u001b[90m━━━━━━━━━━━━━━━━━━━━━━━━━━━━━━━━━━━━━━━━\u001b[0m \u001b[32m0.0/3.1 MB\u001b[0m \u001b[31m?\u001b[0m eta \u001b[36m-:--:--\u001b[0m\r\u001b[2K   \u001b[91m━━\u001b[0m\u001b[90m╺\u001b[0m\u001b[90m━━━━━━━━━━━━━━━━━━━━━━━━━━━━━━━━━━━━━\u001b[0m \u001b[32m0.2/3.1 MB\u001b[0m \u001b[31m5.0 MB/s\u001b[0m eta \u001b[36m0:00:01\u001b[0m\r\u001b[2K   \u001b[91m━━━━━━━━━━━━━━━\u001b[0m\u001b[91m╸\u001b[0m\u001b[90m━━━━━━━━━━━━━━━━━━━━━━━━\u001b[0m \u001b[32m1.2/3.1 MB\u001b[0m \u001b[31m18.1 MB/s\u001b[0m eta \u001b[36m0:00:01\u001b[0m\r\u001b[2K   \u001b[91m━━━━━━━━━━━━━━━━━━━━━━━━━━━━━━━━━━━━━━━\u001b[0m\u001b[91m╸\u001b[0m \u001b[32m3.1/3.1 MB\u001b[0m \u001b[31m36.4 MB/s\u001b[0m eta \u001b[36m0:00:01\u001b[0m\r\u001b[2K   \u001b[90m━━━━━━━━━━━━━━━━━━━━━━━━━━━━━━━━━━━━━━━━\u001b[0m \u001b[32m3.1/3.1 MB\u001b[0m \u001b[31m28.8 MB/s\u001b[0m eta \u001b[36m0:00:00\u001b[0m\n",
            "\u001b[?25h"
          ]
        }
      ],
      "source": [
        "pip install igraph --quiet"
      ]
    },
    {
      "cell_type": "code",
      "execution_count": 3,
      "id": "_l19rROGUSON",
      "metadata": {
        "colab": {
          "base_uri": "https://localhost:8080/"
        },
        "id": "_l19rROGUSON",
        "outputId": "870a4c02-91c2-4f8a-ac9e-f322e953070c"
      },
      "outputs": [
        {
          "output_type": "stream",
          "name": "stdout",
          "text": [
            "\u001b[2K   \u001b[90m━━━━━━━━━━━━━━━━━━━━━━━━━━━━━━━━━━━━━━━━\u001b[0m \u001b[32m2.0/2.0 MB\u001b[0m \u001b[31m9.2 MB/s\u001b[0m eta \u001b[36m0:00:00\u001b[0m\n",
            "\u001b[?25h"
          ]
        }
      ],
      "source": [
        "pip install leidenalg --quiet"
      ]
    },
    {
      "cell_type": "code",
      "execution_count": 4,
      "id": "2Y0xv_DWTRa_",
      "metadata": {
        "id": "2Y0xv_DWTRa_"
      },
      "outputs": [],
      "source": [
        "import scanpy as sc\n",
        "import matplotlib.pyplot as plt"
      ]
    },
    {
      "cell_type": "code",
      "execution_count": 5,
      "id": "d-FZE-MmTYpi",
      "metadata": {
        "colab": {
          "base_uri": "https://localhost:8080/",
          "height": 49,
          "referenced_widgets": [
            "6315beda68194cb5a54d884cef93d3f6",
            "7171bd9f229049eaacba4279e596a00d",
            "7a0f2b87ea924d9bb6bfeab8eb186277",
            "0eba686e499544e893b4fc84501fae4d",
            "d20cb9d0022c4b1ea4711b8b5f76d912",
            "f9ea7dd02b814823be3aab77cbe890db",
            "ab857d2b321245248f23d9124900005e",
            "13306a91303b4c78bdc3186cfa9e06db",
            "7bffc81819af4fb8a9c384f77f360e3f",
            "2ea2314742324fd389f973e513ef0d56",
            "8ac90af843c2485bb05c731d2b377fdc"
          ]
        },
        "id": "d-FZE-MmTYpi",
        "outputId": "5d9d2d65-4fcf-4579-c342-fe34538bd0cf"
      },
      "outputs": [
        {
          "output_type": "display_data",
          "data": {
            "text/plain": [
              "  0%|          | 0.00/5.58M [00:00<?, ?B/s]"
            ],
            "application/vnd.jupyter.widget-view+json": {
              "version_major": 2,
              "version_minor": 0,
              "model_id": "6315beda68194cb5a54d884cef93d3f6"
            }
          },
          "metadata": {}
        }
      ],
      "source": [
        "# Load dataset\n",
        "adata = sc.datasets.pbmc3k()\n",
        "adata = adata[:300]  # Subsample for speed"
      ]
    },
    {
      "cell_type": "code",
      "execution_count": null,
      "id": "m8f2qXBYTatb",
      "metadata": {
        "id": "m8f2qXBYTatb"
      },
      "outputs": [],
      "source": [
        "# Preprocessing\n",
        "sc.pp.filter_cells(adata, min_genes=200)\n",
        "sc.pp.filter_genes(adata, min_cells=3)\n",
        "sc.pp.normalize_total(adata, target_sum=1e4)\n",
        "sc.pp.log1p(adata)\n",
        "sc.pp.highly_variable_genes(adata, min_mean=0.0125, max_mean=3, min_disp=0.5)\n",
        "adata = adata[:, adata.var.highly_variable]"
      ]
    },
    {
      "cell_type": "code",
      "execution_count": null,
      "id": "p9lqEKN-TcKa",
      "metadata": {
        "id": "p9lqEKN-TcKa"
      },
      "outputs": [],
      "source": [
        "# PCA, neighbors, UMAP\n",
        "sc.pp.scale(adata, max_value=10)\n",
        "sc.tl.pca(adata, svd_solver='arpack')\n",
        "sc.pp.neighbors(adata, n_neighbors=10, n_pcs=40)\n",
        "sc.tl.umap(adata)"
      ]
    },
    {
      "cell_type": "code",
      "execution_count": null,
      "id": "09a7c4b0",
      "metadata": {
        "id": "09a7c4b0"
      },
      "outputs": [],
      "source": [
        "# Clustering\n",
        "sc.tl.leiden(adata)\n",
        "sc.pl.umap(adata, color=['leiden'], title='UMAP with Leiden Clusters')"
      ]
    },
    {
      "cell_type": "code",
      "execution_count": null,
      "id": "5c218f99",
      "metadata": {
        "id": "5c218f99"
      },
      "outputs": [],
      "source": [
        "# Marker genes\n",
        "sc.tl.rank_genes_groups(adata, 'leiden', method='t-test')\n",
        "sc.pl.rank_genes_groups(adata, n_genes=10, sharey=False)\n",
        "sc.pl.rank_genes_groups_heatmap(adata, n_genes=5, groupby='leiden', show=True)"
      ]
    },
    {
      "cell_type": "markdown",
      "id": "906fd842",
      "metadata": {
        "id": "906fd842"
      },
      "source": [
        "**Interpretation:** The clusters represent different immune cell types in PBMCs. The UMAP plot shows clear separations, and marker gene heatmap provides top markers per cluster."
      ]
    },
    {
      "cell_type": "markdown",
      "id": "dce03055",
      "metadata": {
        "id": "dce03055"
      },
      "source": [
        "## Part 2a: Deep Learning - PyTorch Autoencoder"
      ]
    },
    {
      "cell_type": "code",
      "execution_count": null,
      "id": "zfNvL2OCXMuI",
      "metadata": {
        "id": "zfNvL2OCXMuI"
      },
      "outputs": [],
      "source": [
        "import torch\n",
        "import torch.nn as nn\n",
        "import torch.optim as optim\n",
        "from sklearn.preprocessing import StandardScaler\n",
        "from sklearn.decomposition import PCA\n",
        "from sklearn.manifold import TSNE\n",
        "import seaborn as sns\n",
        "import numpy as np"
      ]
    },
    {
      "cell_type": "code",
      "execution_count": null,
      "id": "TaTRSeDzXRbk",
      "metadata": {
        "id": "TaTRSeDzXRbk"
      },
      "outputs": [],
      "source": [
        "# Prepare data\n",
        "X = adata.X.toarray() if not isinstance(adata.X, np.ndarray) else adata.X\n",
        "scaler = StandardScaler()\n",
        "X_scaled = scaler.fit_transform(X)\n",
        "X_tensor = torch.tensor(X_scaled, dtype=torch.float32)"
      ]
    },
    {
      "cell_type": "code",
      "execution_count": null,
      "id": "iflpmegtXe3d",
      "metadata": {
        "id": "iflpmegtXe3d"
      },
      "outputs": [],
      "source": [
        "# Autoencoder model\n",
        "class Autoencoder(nn.Module):\n",
        "    def __init__(self, input_dim, latent_dim):\n",
        "        super().__init__()\n",
        "        self.encoder = nn.Sequential(nn.Linear(input_dim, 64), nn.ReLU(), nn.Linear(64, latent_dim))\n",
        "        self.decoder = nn.Sequential(nn.Linear(latent_dim, 64), nn.ReLU(), nn.Linear(64, input_dim))\n",
        "    def forward(self, x):\n",
        "        z = self.encoder(x)\n",
        "        return self.decoder(z), z\n",
        "\n",
        "model = Autoencoder(X_tensor.shape[1], 10)\n",
        "optimizer = optim.Adam(model.parameters(), lr=1e-3)\n",
        "loss_fn = nn.MSELoss()"
      ]
    },
    {
      "cell_type": "code",
      "execution_count": null,
      "id": "KTozLe2jXhaH",
      "metadata": {
        "id": "KTozLe2jXhaH"
      },
      "outputs": [],
      "source": [
        "# Train\n",
        "for epoch in range(100):\n",
        "    optimizer.zero_grad()\n",
        "    out, _ = model(X_tensor)\n",
        "    loss = loss_fn(out, X_tensor)\n",
        "    loss.backward()\n",
        "    optimizer.step()\n",
        "    if epoch % 20 == 0:\n",
        "        print(f\"Epoch {epoch}, Loss: {loss.item():.4f}\")"
      ]
    },
    {
      "cell_type": "code",
      "execution_count": null,
      "id": "3Q-Kv1uiXmzN",
      "metadata": {
        "id": "3Q-Kv1uiXmzN"
      },
      "outputs": [],
      "source": [
        "# Extract latent space\n",
        "_, latent = model(X_tensor)\n",
        "latent_np = latent.detach().numpy()"
      ]
    },
    {
      "cell_type": "code",
      "execution_count": null,
      "id": "b7f38c00",
      "metadata": {
        "id": "b7f38c00"
      },
      "outputs": [],
      "source": [
        "# Visualize\n",
        "pca = PCA(n_components=2)\n",
        "latent_pca = pca.fit_transform(latent_np)\n",
        "sns.scatterplot(x=latent_pca[:, 0], y=latent_pca[:, 1], hue=adata.obs['leiden'], palette='tab10')\n",
        "plt.title(\"Latent Space via Autoencoder (PCA)\")\n",
        "plt.show()"
      ]
    },
    {
      "cell_type": "markdown",
      "id": "f387f883",
      "metadata": {
        "id": "f387f883"
      },
      "source": [
        "##  Part 2b: Deep Learning - scVI Variational Autoencoder"
      ]
    },
    {
      "cell_type": "code",
      "execution_count": null,
      "id": "Hm852tlEYANK",
      "metadata": {
        "id": "Hm852tlEYANK"
      },
      "outputs": [],
      "source": [
        "# First: ensure no old versions remain\n",
        "!pip uninstall -y scvi scvi-tools\n",
        "\n",
        "# Then: install the correct one\n",
        "!pip install --quiet scvi-tools"
      ]
    },
    {
      "cell_type": "code",
      "execution_count": null,
      "id": "yUMVjolBXuWf",
      "metadata": {
        "id": "yUMVjolBXuWf"
      },
      "outputs": [],
      "source": [
        "import scvi\n",
        "from scvi.model import SCVI"
      ]
    },
    {
      "cell_type": "code",
      "execution_count": null,
      "id": "oaaSq5SCYuKu",
      "metadata": {
        "id": "oaaSq5SCYuKu"
      },
      "outputs": [],
      "source": [
        "# Setup scvi model\n",
        "adata_scvi = adata.raw.to_adata() if adata.raw else adata.copy()\n",
        "scvi.model.SCVI.setup_anndata(adata_scvi)\n",
        "vae = scvi.model.SCVI(adata_scvi)\n",
        "vae.train(max_epochs=50)"
      ]
    },
    {
      "cell_type": "code",
      "execution_count": null,
      "id": "VC9FFf0Se-Ae",
      "metadata": {
        "id": "VC9FFf0Se-Ae"
      },
      "outputs": [],
      "source": [
        "# Extract latent representation (use correct method)\n",
        "adata.obsm[\"X_scVI\"] = vae.get_latent_representation()"
      ]
    },
    {
      "cell_type": "code",
      "execution_count": null,
      "id": "z-gS_ghrfDZ-",
      "metadata": {
        "id": "z-gS_ghrfDZ-"
      },
      "outputs": [],
      "source": [
        "# Use scVI latent space for clustering and UMAP\n",
        "sc.pp.neighbors(adata, use_rep=\"X_scVI\")\n",
        "sc.tl.leiden(adata)\n",
        "sc.tl.umap(adata)\n",
        "sc.pl.umap(adata, color=\"leiden\", title=\"UMAP of scVI Latent Space\")"
      ]
    },
    {
      "cell_type": "markdown",
      "id": "655ad47f",
      "metadata": {
        "id": "655ad47f"
      },
      "source": [
        "##  Part 3: Multi-Omics Integration"
      ]
    },
    {
      "cell_type": "markdown",
      "id": "c2b48d53",
      "metadata": {
        "id": "c2b48d53"
      },
      "source": [
        "**Two Strategies for Integration:**\n",
        "1. Early Integration (Concatenation): Combine features before model input.\n",
        "2. Late Integration (Ensemble): Separate models for each omic type, combine outputs.\n",
        "\n",
        "**Minimal Code for Concatenation:**\n",
        "```python\n",
        "rna = adata.layers['rna']\n",
        "protein = adata.obsm['protein']\n",
        "combined = np.concatenate([rna, protein], axis=1)\n",
        "```"
      ]
    },
    {
      "cell_type": "markdown",
      "id": "311d357a",
      "metadata": {
        "id": "311d357a"
      },
      "source": [
        "##  Part 4: Scientific Reasoning"
      ]
    },
    {
      "cell_type": "markdown",
      "id": "c89f9814",
      "metadata": {
        "id": "c89f9814"
      },
      "source": [
        "**3 Possible Causes of Poor Clustering:**\n",
        "1. Inadequate normalization or preprocessing\n",
        "2. Too few PCs or wrong neighborhood parameters\n",
        "3. Biologically similar cells genuinely hard to distinguish\n",
        "\n",
        "**2 Suggestions:**\n",
        "- Increase resolution or try alternative clustering\n",
        "- Use more robust latent space (e.g., scVI or Harmony)\n",
        "\n",
        "**Abstract:**\n",
        "We performed a comprehensive analysis of PBMC single-cell transcriptomic data using Scanpy and deep learning approaches. Our preprocessing and clustering pipeline revealed distinct immune cell populations. An autoencoder and scVI model were trained to reduce dimensionality and capture meaningful latent representations. Integration strategies and biological interpretation were explored, highlighting the value of generative AI in single-cell omics."
      ]
    }
  ],
  "metadata": {
    "language_info": {
      "name": "python"
    },
    "colab": {
      "provenance": [],
      "include_colab_link": true
    },
    "kernelspec": {
      "name": "python3",
      "display_name": "Python 3"
    },
    "widgets": {
      "application/vnd.jupyter.widget-state+json": {
        "6315beda68194cb5a54d884cef93d3f6": {
          "model_module": "@jupyter-widgets/controls",
          "model_name": "HBoxModel",
          "model_module_version": "1.5.0",
          "state": {
            "_dom_classes": [],
            "_model_module": "@jupyter-widgets/controls",
            "_model_module_version": "1.5.0",
            "_model_name": "HBoxModel",
            "_view_count": null,
            "_view_module": "@jupyter-widgets/controls",
            "_view_module_version": "1.5.0",
            "_view_name": "HBoxView",
            "box_style": "",
            "children": [
              "IPY_MODEL_7171bd9f229049eaacba4279e596a00d",
              "IPY_MODEL_7a0f2b87ea924d9bb6bfeab8eb186277",
              "IPY_MODEL_0eba686e499544e893b4fc84501fae4d"
            ],
            "layout": "IPY_MODEL_d20cb9d0022c4b1ea4711b8b5f76d912"
          }
        },
        "7171bd9f229049eaacba4279e596a00d": {
          "model_module": "@jupyter-widgets/controls",
          "model_name": "HTMLModel",
          "model_module_version": "1.5.0",
          "state": {
            "_dom_classes": [],
            "_model_module": "@jupyter-widgets/controls",
            "_model_module_version": "1.5.0",
            "_model_name": "HTMLModel",
            "_view_count": null,
            "_view_module": "@jupyter-widgets/controls",
            "_view_module_version": "1.5.0",
            "_view_name": "HTMLView",
            "description": "",
            "description_tooltip": null,
            "layout": "IPY_MODEL_f9ea7dd02b814823be3aab77cbe890db",
            "placeholder": "​",
            "style": "IPY_MODEL_ab857d2b321245248f23d9124900005e",
            "value": "100%"
          }
        },
        "7a0f2b87ea924d9bb6bfeab8eb186277": {
          "model_module": "@jupyter-widgets/controls",
          "model_name": "FloatProgressModel",
          "model_module_version": "1.5.0",
          "state": {
            "_dom_classes": [],
            "_model_module": "@jupyter-widgets/controls",
            "_model_module_version": "1.5.0",
            "_model_name": "FloatProgressModel",
            "_view_count": null,
            "_view_module": "@jupyter-widgets/controls",
            "_view_module_version": "1.5.0",
            "_view_name": "ProgressView",
            "bar_style": "success",
            "description": "",
            "description_tooltip": null,
            "layout": "IPY_MODEL_13306a91303b4c78bdc3186cfa9e06db",
            "max": 5855727,
            "min": 0,
            "orientation": "horizontal",
            "style": "IPY_MODEL_7bffc81819af4fb8a9c384f77f360e3f",
            "value": 5855727
          }
        },
        "0eba686e499544e893b4fc84501fae4d": {
          "model_module": "@jupyter-widgets/controls",
          "model_name": "HTMLModel",
          "model_module_version": "1.5.0",
          "state": {
            "_dom_classes": [],
            "_model_module": "@jupyter-widgets/controls",
            "_model_module_version": "1.5.0",
            "_model_name": "HTMLModel",
            "_view_count": null,
            "_view_module": "@jupyter-widgets/controls",
            "_view_module_version": "1.5.0",
            "_view_name": "HTMLView",
            "description": "",
            "description_tooltip": null,
            "layout": "IPY_MODEL_2ea2314742324fd389f973e513ef0d56",
            "placeholder": "​",
            "style": "IPY_MODEL_8ac90af843c2485bb05c731d2b377fdc",
            "value": " 5.58M/5.58M [00:01&lt;00:00, 10.8MB/s]"
          }
        },
        "d20cb9d0022c4b1ea4711b8b5f76d912": {
          "model_module": "@jupyter-widgets/base",
          "model_name": "LayoutModel",
          "model_module_version": "1.2.0",
          "state": {
            "_model_module": "@jupyter-widgets/base",
            "_model_module_version": "1.2.0",
            "_model_name": "LayoutModel",
            "_view_count": null,
            "_view_module": "@jupyter-widgets/base",
            "_view_module_version": "1.2.0",
            "_view_name": "LayoutView",
            "align_content": null,
            "align_items": null,
            "align_self": null,
            "border": null,
            "bottom": null,
            "display": null,
            "flex": null,
            "flex_flow": null,
            "grid_area": null,
            "grid_auto_columns": null,
            "grid_auto_flow": null,
            "grid_auto_rows": null,
            "grid_column": null,
            "grid_gap": null,
            "grid_row": null,
            "grid_template_areas": null,
            "grid_template_columns": null,
            "grid_template_rows": null,
            "height": null,
            "justify_content": null,
            "justify_items": null,
            "left": null,
            "margin": null,
            "max_height": null,
            "max_width": null,
            "min_height": null,
            "min_width": null,
            "object_fit": null,
            "object_position": null,
            "order": null,
            "overflow": null,
            "overflow_x": null,
            "overflow_y": null,
            "padding": null,
            "right": null,
            "top": null,
            "visibility": null,
            "width": null
          }
        },
        "f9ea7dd02b814823be3aab77cbe890db": {
          "model_module": "@jupyter-widgets/base",
          "model_name": "LayoutModel",
          "model_module_version": "1.2.0",
          "state": {
            "_model_module": "@jupyter-widgets/base",
            "_model_module_version": "1.2.0",
            "_model_name": "LayoutModel",
            "_view_count": null,
            "_view_module": "@jupyter-widgets/base",
            "_view_module_version": "1.2.0",
            "_view_name": "LayoutView",
            "align_content": null,
            "align_items": null,
            "align_self": null,
            "border": null,
            "bottom": null,
            "display": null,
            "flex": null,
            "flex_flow": null,
            "grid_area": null,
            "grid_auto_columns": null,
            "grid_auto_flow": null,
            "grid_auto_rows": null,
            "grid_column": null,
            "grid_gap": null,
            "grid_row": null,
            "grid_template_areas": null,
            "grid_template_columns": null,
            "grid_template_rows": null,
            "height": null,
            "justify_content": null,
            "justify_items": null,
            "left": null,
            "margin": null,
            "max_height": null,
            "max_width": null,
            "min_height": null,
            "min_width": null,
            "object_fit": null,
            "object_position": null,
            "order": null,
            "overflow": null,
            "overflow_x": null,
            "overflow_y": null,
            "padding": null,
            "right": null,
            "top": null,
            "visibility": null,
            "width": null
          }
        },
        "ab857d2b321245248f23d9124900005e": {
          "model_module": "@jupyter-widgets/controls",
          "model_name": "DescriptionStyleModel",
          "model_module_version": "1.5.0",
          "state": {
            "_model_module": "@jupyter-widgets/controls",
            "_model_module_version": "1.5.0",
            "_model_name": "DescriptionStyleModel",
            "_view_count": null,
            "_view_module": "@jupyter-widgets/base",
            "_view_module_version": "1.2.0",
            "_view_name": "StyleView",
            "description_width": ""
          }
        },
        "13306a91303b4c78bdc3186cfa9e06db": {
          "model_module": "@jupyter-widgets/base",
          "model_name": "LayoutModel",
          "model_module_version": "1.2.0",
          "state": {
            "_model_module": "@jupyter-widgets/base",
            "_model_module_version": "1.2.0",
            "_model_name": "LayoutModel",
            "_view_count": null,
            "_view_module": "@jupyter-widgets/base",
            "_view_module_version": "1.2.0",
            "_view_name": "LayoutView",
            "align_content": null,
            "align_items": null,
            "align_self": null,
            "border": null,
            "bottom": null,
            "display": null,
            "flex": null,
            "flex_flow": null,
            "grid_area": null,
            "grid_auto_columns": null,
            "grid_auto_flow": null,
            "grid_auto_rows": null,
            "grid_column": null,
            "grid_gap": null,
            "grid_row": null,
            "grid_template_areas": null,
            "grid_template_columns": null,
            "grid_template_rows": null,
            "height": null,
            "justify_content": null,
            "justify_items": null,
            "left": null,
            "margin": null,
            "max_height": null,
            "max_width": null,
            "min_height": null,
            "min_width": null,
            "object_fit": null,
            "object_position": null,
            "order": null,
            "overflow": null,
            "overflow_x": null,
            "overflow_y": null,
            "padding": null,
            "right": null,
            "top": null,
            "visibility": null,
            "width": null
          }
        },
        "7bffc81819af4fb8a9c384f77f360e3f": {
          "model_module": "@jupyter-widgets/controls",
          "model_name": "ProgressStyleModel",
          "model_module_version": "1.5.0",
          "state": {
            "_model_module": "@jupyter-widgets/controls",
            "_model_module_version": "1.5.0",
            "_model_name": "ProgressStyleModel",
            "_view_count": null,
            "_view_module": "@jupyter-widgets/base",
            "_view_module_version": "1.2.0",
            "_view_name": "StyleView",
            "bar_color": null,
            "description_width": ""
          }
        },
        "2ea2314742324fd389f973e513ef0d56": {
          "model_module": "@jupyter-widgets/base",
          "model_name": "LayoutModel",
          "model_module_version": "1.2.0",
          "state": {
            "_model_module": "@jupyter-widgets/base",
            "_model_module_version": "1.2.0",
            "_model_name": "LayoutModel",
            "_view_count": null,
            "_view_module": "@jupyter-widgets/base",
            "_view_module_version": "1.2.0",
            "_view_name": "LayoutView",
            "align_content": null,
            "align_items": null,
            "align_self": null,
            "border": null,
            "bottom": null,
            "display": null,
            "flex": null,
            "flex_flow": null,
            "grid_area": null,
            "grid_auto_columns": null,
            "grid_auto_flow": null,
            "grid_auto_rows": null,
            "grid_column": null,
            "grid_gap": null,
            "grid_row": null,
            "grid_template_areas": null,
            "grid_template_columns": null,
            "grid_template_rows": null,
            "height": null,
            "justify_content": null,
            "justify_items": null,
            "left": null,
            "margin": null,
            "max_height": null,
            "max_width": null,
            "min_height": null,
            "min_width": null,
            "object_fit": null,
            "object_position": null,
            "order": null,
            "overflow": null,
            "overflow_x": null,
            "overflow_y": null,
            "padding": null,
            "right": null,
            "top": null,
            "visibility": null,
            "width": null
          }
        },
        "8ac90af843c2485bb05c731d2b377fdc": {
          "model_module": "@jupyter-widgets/controls",
          "model_name": "DescriptionStyleModel",
          "model_module_version": "1.5.0",
          "state": {
            "_model_module": "@jupyter-widgets/controls",
            "_model_module_version": "1.5.0",
            "_model_name": "DescriptionStyleModel",
            "_view_count": null,
            "_view_module": "@jupyter-widgets/base",
            "_view_module_version": "1.2.0",
            "_view_name": "StyleView",
            "description_width": ""
          }
        }
      }
    }
  },
  "nbformat": 4,
  "nbformat_minor": 5
}